import matplotlib.pyplot as plt
from matplotlib.pyplot import figure
import networkx as nx
import pandas as pd
import io
import random
import math


# csv's
helped = pd.read_csv(io.BytesIO(uploaded['connections_helped.csv']))
#helped = pd.read_csv(io.BytesIO(uploaded['helped_dummy_data.csv']))
names_known = pd.read_csv(io.BytesIO(uploaded['connections_names.csv']))
outside_connections = pd.read_csv(io.BytesIO(uploaded['connections_outside.csv']))


csvs = [helped, names_known, outside_connections]
student_array = []
edges_array = []
node_sizes = []
center = (0, 0)  # Circle centered at origin
radius = 1500      # Circle radius

names = [
    "Ahmed Mohanad",
    "Akheli Chhetri Alinjaya",
    "Almat Dias",
    "Altareb Joseph",
    "Alvarado Ryan",
    "Aquino Adrian",
    "Basnet Ronak",
    "Berrios Conner",
    "Cao Haibin",
    "Celik Rumeysa",
    "Chikhaliya Sharanam Alpeshkumar",
    "Cook Jermon",
    "De Leon Carlos Miguel",
    "Deldio Jaden",
    "Delgado Marcelo",
    "Deshpande Abha Arvind",
    "Elayba Francine",
    "Escobar Sean Patrick",
    "Garcia Marco Antonio",
    "Gill Simran",
    "Graham Daejuan",
    "Grewal Pavnoor Singh",
    "Gunnam Ananya",
    "Huynh Charlie",
    "Isaacs Ricki",
    "Kohgadai Hashmat (Bilal/Bilk0h)",
    "Lin Enoch",
    "Masangcay Ezeren",
    "Masbahullah Said",
    "Mugambi Nate",
    "Mulaku Adea",
    "Rameshwar Shreya",
    "Rosen Benji",
    "Sanhueza Alessandro",
    "Selvarajan Ryan",
    "Shah Kunj Purvish",
    "Srinath Rahul",
    "Tobgyal Sonam",
    "Tsiglieris John",
    "Tyberg Charley",
    "Valdovinos Janelle",
    "Waterman Elijah",
    "Westover Jordan",
    "Xie Jayden",
    "Xu Tom",
    "Yang Damon",
    "Zhasbulatov Kuanysh",
    "Zhen Jason",
    "Zhong Angel",
    "Homayoun"
    ]


class Student:
    def __init__(self, id, score, node):
        self.id = id
        self.score = score
        self.node = node


def calculate_circle_points(center, radius, num_points):
    x0, y0 = center
    theta = 2 * math.pi / num_points  # Angle between points
    points = []

    for k in range(num_points):
        angle = k * theta
        x = x0 + radius * math.cos(angle)
        y = y0 + radius * math.sin(angle)
        points.append((x, y))

    return points





def calculateScore(student):
  name = student.id
  scalar = 120

  for csv in csvs:
    if name in csv['Unnamed: 0'].values:
        row_data = csv.loc[csv['Unnamed: 0'] == name].iloc[0, 1:]
        student.score += sum(1 for val in row_data if val == 1)

    if name in csv.columns:
        column_data = csv[name]
        student.score += sum(1 for val in column_data if val == 1)

  node_sizes.append(student.score * scalar)
  return 0





def addEdges(student):
    name = student.id

    for csv in csvs:
        # Check if the student is in column
        if name in csv['Unnamed: 0'].values:
            # Find the row corresponding to the student
            row = csv.loc[csv['Unnamed: 0'] == name].iloc[0, 1:]  # Skip the 'Unnamed: 0' column

            # Iterate over the row to find columns with a '1'
            for column_name, value in row.items():
                if value == 1:
                    # Find the student in student_array whose name matches the column_name
                    for other_student in student_array:
                        if other_student.id == column_name:
                            # Add the edge as a tuple to edges_array
                            edges_array.append((student.id, other_student.id)) #NetworkX identifies nodes by names

    return 0





def main():
  G=nx.Graph()
  G.graph["Name"]="Classroom Connections"



  # init student_array
  for i, name in enumerate(names):
    G.add_node(name, pos=(0, 0))
    student_array.append(Student(name, 0, G.nodes[name]))
    #print(student_array[i].id)
    #print(student_array[i].score)
    #print(student_array[i].node)

  circle_positions = calculate_circle_points(center, radius, len(names))
  #dictionary comprehension to create tuples of names and circle positions
  positions = {name: pos for name, pos in zip(names, circle_positions)}

  for student in student_array:
    calculateScore(student) # Calculate Score based on number of 1s in CSVs
    addEdges(student)


  #print(edges_array)
  G.add_edges_from(edges_array) #None cannot be a node?

  nx.draw(G,pos=positions,with_labels=True,
          node_color="red",node_size=node_sizes,
          font_color="black",font_size=6, font_weight="bold", edge_color="black",
          width=0.5)



  #nx.draw_networkx_labels(G,pos_attributes,labels=node_labels,font_size=15)
  #nx.draw_networkx_labels(G, pos=positions, labels=node_labels, font_size=6, font_color="black")
  #figure(figsize=(80, 80), dpi=80)
  plt.rcParams["figure.figsize"] = (20,20)
  plt.xlim(-1500,1500)
  plt.ylim(-1500,1500)
  plt.axis('equal')
  plt.margins(0.1)
  plt.show()


if __name__ == "__main__":
  main()
